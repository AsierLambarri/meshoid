{
 "cells": [
  {
   "cell_type": "code",
   "execution_count": 6,
   "metadata": {},
   "outputs": [
    {
     "name": "stdout",
     "output_type": "stream",
     "text": [
      "Using matplotlib backend: TkAgg\n",
      "%pylab is deprecated, use %matplotlib inline and import the required libraries.\n",
      "Populating the interactive namespace from numpy and matplotlib\n",
      "The line_profiler extension is already loaded. To reload it, use:\n",
      "  %reload_ext line_profiler\n"
     ]
    },
    {
     "name": "stderr",
     "output_type": "stream",
     "text": [
      "/home/mgrudic/.local/lib/python3.9/site-packages/IPython/core/magics/pylab.py:162: UserWarning: pylab import has clobbered these variables: ['f']\n",
      "`%matplotlib` prevents importing * from pylab and numpy\n",
      "  warn(\"pylab import has clobbered these variables: %s\"  % clobbered +\n",
      "/tmp/ipykernel_756485/3692455235.py:9: DeprecationWarning: Calling np.sum(generator) is deprecated, and in the future will give a different result. Use np.sum(np.fromiter(generator)) or the python sum builtin instead.\n",
      "  f = sum(coeffs[i] * x[:,i]**2 for i in range(3)) + sum(coeffs[i+3] * x[:,(i+1)%3] * x[:,(i+2)%3] for i  in range(3)) + sum(coeffs[i+6]*x[:,i] for i in range(3)) + coeffs[-1]\n"
     ]
    },
    {
     "name": "stdout",
     "output_type": "stream",
     "text": [
      "Timer unit: 1e-09 s\n",
      "\n",
      "Total time: 58.8435 s\n",
      "File: /home/mgrudic/.local/lib/python3.9/site-packages/meshoid/Meshoid.py\n",
      "Function: ComputeDWeights at line 110\n",
      "\n",
      "Line #      Hits         Time  Per Hit   % Time  Line Contents\n",
      "==============================================================\n",
      "   110                                               def ComputeDWeights(self, order=1, weighted=True):\n",
      "   111                                                   \"\"\"\n",
      "   112                                                   Computes the weights required to compute least-squares gradient estimators on data colocated on the meshoid\n",
      "   113                                           \n",
      "   114                                                   Parameters\n",
      "   115                                                   ----------\n",
      "   116                                                   order: int, optional\n",
      "   117                                                       1 to compute weights for first derivatives, 2 for the Jacobian matrix (default: 1)\n",
      "   118                                                   weighted: boolean, optional\n",
      "   119                                                       whether to kernel-weight the least-squares gradient solutions (default: True)\n",
      "   120                                                   \"\"\"\n",
      "   121         1 2214276651.0    2e+09      3.8          weights = self.get_kernel_weights()\n",
      "   122                                           \n",
      "   123         1       2717.0   2717.0      0.0          if self.verbose:\n",
      "   124                                                       print(f\"Computing weights for derivatives of order {order}...\")\n",
      "   125                                           \n",
      "   126         1        2e+10    2e+10     41.7          dx = self.pos[self.ngb] - self.pos[self.particle_mask][:, None, :]\n",
      "   127                                           \n",
      "   128         1       1535.0   1535.0      0.0          if order == 1:\n",
      "   129         2        2e+10    9e+09     29.0              dx_matrix = np.einsum(\n",
      "   130         1        638.0    638.0      0.0                  \"ij,ijk,ijl->ikl\", weights, dx, dx, optimize=\"optimal\"\n",
      "   131                                                       )  # matrix for least-squares fit to a linear function\n",
      "   132                                           \n",
      "   133         1 1413523089.0    1e+09      2.4              dx_matrix = np.linalg.inv(dx_matrix)  # invert the matrices\n",
      "   134         2        1e+10    7e+09     23.1              self.dweights = np.einsum(\n",
      "   135         1        627.0    627.0      0.0                  \"ikl,ijl,ij->ijk\", dx_matrix, dx, weights, optimize=\"optimal\"\n",
      "   136                                                       )  # gradient estimator is sum over j of dweight_ij (f_j - f_i)\n",
      "   137                                                   elif order == 2:\n",
      "   138                                                       if not weighted:\n",
      "   139                                                           weights = np.ones_like(weights)\n",
      "   140                                                       dx_matrix = d2matrix(dx)\n",
      "   141                                                       dx_matrix2 = np.einsum(\n",
      "   142                                                           \"ij,ijk,ijl->ikl\", weights, dx_matrix, dx_matrix, optimize=\"optimal\"\n",
      "   143                                                       )  # w A^T A to get least-squares matrix\n",
      "   144                                                       dx_matrix2 = np.linalg.inv(dx_matrix2)\n",
      "   145                                                       self.d2_condition_number = np.linalg.cond(dx_matrix2)\n",
      "   146                                           \n",
      "   147                                                       self.d2weights = d2weights(dx_matrix2, dx_matrix, w)\n",
      "   148                                           \n",
      "   149                                                       self.d2weights, self.dweights_3rdorder = (\n",
      "   150                                                           self.d2weights[:, :, self.dim :],\n",
      "   151                                                           self.d2weights[:, :, : self.dim],\n",
      "   152                                                       )\n",
      "   153                                                       # gradient estimator is sum over j of dweight_ij (f_j - f_i)"
     ]
    }
   ],
   "source": [
    "%pylab\n",
    "%load_ext line_profiler\n",
    "from meshoid import Meshoid\n",
    "N= int(10**7)\n",
    "x = np.random.rand(N,3)\n",
    "\n",
    "# make a 3D 2nd order polynommial with random coefficients\n",
    "coeffs = np.random.rand(10)\n",
    "f = sum(coeffs[i] * x[:,i]**2 for i in range(3)) + sum(coeffs[i+3] * x[:,(i+1)%3] * x[:,(i+2)%3] for i  in range(3)) + sum(coeffs[i+6]*x[:,i] for i in range(3)) + coeffs[-1]\n",
    "%lprun -f Meshoid.TreeUpdate M = Meshoid(x)\n",
    "#M.D(f)\n",
    "#%lprun -f Meshoid.ComputeDWeights M.D(f)"
   ]
  },
  {
   "cell_type": "code",
   "execution_count": null,
   "metadata": {},
   "outputs": [],
   "source": [
    "%load_ext line_profiler"
   ]
  }
 ],
 "metadata": {
  "kernelspec": {
   "display_name": "2023.2.0",
   "language": "python",
   "name": "python3"
  },
  "language_info": {
   "codemirror_mode": {
    "name": "ipython",
    "version": 3
   },
   "file_extension": ".py",
   "mimetype": "text/x-python",
   "name": "python",
   "nbconvert_exporter": "python",
   "pygments_lexer": "ipython3",
   "version": "3.9.16"
  }
 },
 "nbformat": 4,
 "nbformat_minor": 2
}
