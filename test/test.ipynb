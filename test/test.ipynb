{
 "cells": [
  {
   "cell_type": "code",
   "execution_count": 2,
   "metadata": {},
   "outputs": [
    {
     "name": "stdout",
     "output_type": "stream",
     "text": [
      "Using matplotlib backend: TkAgg\n",
      "%pylab is deprecated, use %matplotlib inline and import the required libraries.\n",
      "Populating the interactive namespace from numpy and matplotlib\n",
      "The line_profiler extension is already loaded. To reload it, use:\n",
      "  %reload_ext line_profiler\n",
      "Building tree...\n",
      "Finding neighbors...\n",
      "Neighbours found!\n",
      "Iterating for smoothing lengths...\n",
      "Smoothing lengths found!\n",
      "Computing weights for derivatives of order 1...\n",
      "4.440892098500626e-16\n",
      "Computing weights for derivatives of order 2...\n",
      "0 0 [[ 2.00000000e+00 -6.93889390e-17  8.88178420e-15 -2.66453526e-15\n",
      "  -6.77236045e-15 -5.99520433e-15]\n",
      " [ 2.00000000e+00  4.71844785e-16  5.41233725e-16 -1.11022302e-16\n",
      "   5.55111512e-17  3.33066907e-16]\n",
      " [ 2.00000000e+00 -2.30926389e-14  2.66453526e-15  8.88178420e-15\n",
      "   9.76996262e-15 -5.32907052e-15]]\n",
      "0 1 [[ 3.77475828e-15 -8.88178420e-16  4.44089210e-16  1.00000000e+00\n",
      "  -4.44089210e-16 -2.27595720e-15]\n",
      " [-9.99200722e-15  3.40005801e-15  6.66133815e-16  1.00000000e+00\n",
      "   1.99840144e-15  3.33066907e-15]\n",
      " [-4.44089210e-16 -2.48689958e-14 -2.17603713e-14  1.00000000e+00\n",
      "  -4.10782519e-15 -1.05471187e-15]]\n",
      "0 2 [[ 8.88178420e-16  2.66453526e-15  4.44089210e-15 -1.22124533e-15\n",
      "  -5.10702591e-15  1.00000000e+00]\n",
      " [-6.66133815e-15  1.72084569e-15 -7.77156117e-16 -2.22044605e-15\n",
      "   4.44089210e-16  1.00000000e+00]\n",
      " [ 3.55271368e-15 -7.10542736e-15 -1.33226763e-14  1.24344979e-14\n",
      "   7.54951657e-15  1.00000000e+00]]\n",
      "1 0 [[ 3.77475828e-15 -8.88178420e-16  4.44089210e-16  1.00000000e+00\n",
      "  -4.44089210e-16 -2.27595720e-15]\n",
      " [-9.99200722e-15  3.40005801e-15  6.66133815e-16  1.00000000e+00\n",
      "   1.99840144e-15  3.33066907e-15]\n",
      " [-4.44089210e-16 -2.48689958e-14 -2.17603713e-14  1.00000000e+00\n",
      "  -4.10782519e-15 -1.05471187e-15]]\n",
      "1 1 [[ 5.55111512e-16  2.00000000e+00 -1.91513472e-15 -1.00267017e-15\n",
      "   1.33226763e-15 -1.05471187e-15]\n",
      " [-1.77635684e-14  2.00000000e+00 -3.19744231e-14  3.10862447e-15\n",
      "   1.77635684e-15  7.54951657e-15]\n",
      " [ 3.46944695e-17  2.00000000e+00 -1.44328993e-15  0.00000000e+00\n",
      "  -8.32667268e-16  2.42861287e-17]]\n",
      "1 2 [[-9.99200722e-16 -6.66133815e-16 -4.44089210e-16 -4.44089210e-16\n",
      "   1.00000000e+00  3.33066907e-16]\n",
      " [-1.06581410e-14 -3.99680289e-15 -9.54791801e-15 -7.10542736e-15\n",
      "   1.00000000e+00  1.15463195e-14]\n",
      " [ 2.22044605e-16 -2.79776202e-14 -3.19744231e-14  3.55271368e-15\n",
      "   1.00000000e+00 -1.20042865e-15]]\n",
      "2 0 [[ 8.88178420e-16  2.66453526e-15  4.44089210e-15 -1.22124533e-15\n",
      "  -5.10702591e-15  1.00000000e+00]\n",
      " [-6.66133815e-15  1.72084569e-15 -7.77156117e-16 -2.22044605e-15\n",
      "   4.44089210e-16  1.00000000e+00]\n",
      " [ 3.55271368e-15 -7.10542736e-15 -1.33226763e-14  1.24344979e-14\n",
      "   7.54951657e-15  1.00000000e+00]]\n",
      "2 1 [[-9.99200722e-16 -6.66133815e-16 -4.44089210e-16 -4.44089210e-16\n",
      "   1.00000000e+00  3.33066907e-16]\n",
      " [-1.06581410e-14 -3.99680289e-15 -9.54791801e-15 -7.10542736e-15\n",
      "   1.00000000e+00  1.15463195e-14]\n",
      " [ 2.22044605e-16 -2.79776202e-14 -3.19744231e-14  3.55271368e-15\n",
      "   1.00000000e+00 -1.20042865e-15]]\n",
      "2 2 [[-2.33146835e-15 -6.66133815e-16  2.00000000e+00 -7.21644966e-16\n",
      "  -1.88737914e-15  6.66133815e-16]\n",
      " [ 1.77635684e-15 -4.44089210e-15  2.00000000e+00  6.21724894e-15\n",
      "  -1.33226763e-15  3.55271368e-15]\n",
      " [ 2.66453526e-15 -7.10542736e-15  2.00000000e+00  5.99520433e-15\n",
      "  -7.54951657e-15  1.06581410e-14]]\n"
     ]
    },
    {
     "name": "stderr",
     "output_type": "stream",
     "text": [
      "/home/mgrudic/.local/lib/python3.9/site-packages/IPython/core/magics/pylab.py:162: UserWarning: pylab import has clobbered these variables: ['product']\n",
      "`%matplotlib` prevents importing * from pylab and numpy\n",
      "  warn(\"pylab import has clobbered these variables: %s\"  % clobbered +\n"
     ]
    }
   ],
   "source": [
    "%pylab\n",
    "%load_ext line_profiler\n",
    "from meshoid import Meshoid\n",
    "from itertools import product\n",
    "np.random.seed(42)\n",
    "N= int(10**4)\n",
    "x = np.random.rand(N,3)\n",
    "M = Meshoid(x,des_ngb=100, particle_mask=np.array([1,2,3]),verbose=True)\n",
    "\n",
    "print(np.max(M.D(x) - np.eye(3)))\n",
    "\n",
    "for i,j in product(range(3),range(3)):\n",
    "      print(i,j,M.D2(x[:,i]*x[:,j]))"
   ]
  },
  {
   "cell_type": "code",
   "execution_count": 2,
   "metadata": {},
   "outputs": [
    {
     "data": {
      "text/plain": [
       "array([[[ 1.00000000e+00, -6.85231655e-17, -1.58492570e-16],\n",
       "        [-3.03053565e-17,  1.00000000e+00, -1.72654961e-17],\n",
       "        [-8.48583018e-17, -4.46301660e-18,  1.00000000e+00]],\n",
       "\n",
       "       [[ 1.00000000e+00,  2.86791658e-17, -5.11760895e-17],\n",
       "        [ 8.85358276e-17,  1.00000000e+00,  5.89587871e-19],\n",
       "        [-8.73916714e-17, -2.04536619e-17,  1.00000000e+00]],\n",
       "\n",
       "       [[ 1.00000000e+00, -1.08715613e-16, -1.07960938e-16],\n",
       "        [-9.89842471e-17,  1.00000000e+00, -2.78899388e-16],\n",
       "        [-9.62466713e-17, -3.86436419e-16,  1.00000000e+00]]])"
      ]
     },
     "execution_count": 2,
     "metadata": {},
     "output_type": "execute_result"
    }
   ],
   "source": [
    "M.D(x)"
   ]
  },
  {
   "cell_type": "code",
   "execution_count": 5,
   "metadata": {},
   "outputs": [
    {
     "data": {
      "text/plain": [
       "array([[0.37454012, 0.95071431, 0.73199394],\n",
       "       [0.59865848, 0.15601864, 0.15599452],\n",
       "       [0.05808361, 0.86617615, 0.60111501],\n",
       "       ...,\n",
       "       [0.259458  , 0.72775786, 0.35995606],\n",
       "       [0.36206349, 0.7799837 , 0.60457569],\n",
       "       [0.70119504, 0.40134331, 0.00372584]])"
      ]
     },
     "execution_count": 5,
     "metadata": {},
     "output_type": "execute_result"
    }
   ],
   "source": [
    "np.take(x,idx,axis=0)"
   ]
  },
  {
   "cell_type": "code",
   "execution_count": 12,
   "metadata": {},
   "outputs": [
    {
     "ename": "KeyboardInterrupt",
     "evalue": "",
     "output_type": "error",
     "traceback": [
      "\u001b[0;31m---------------------------------------------------------------------------\u001b[0m",
      "\u001b[0;31mKeyboardInterrupt\u001b[0m                         Traceback (most recent call last)",
      "Cell \u001b[0;32mIn[12], line 5\u001b[0m\n\u001b[1;32m      1\u001b[0m \u001b[38;5;66;03m#if np.zeros(3):\u001b[39;00m\n\u001b[1;32m      2\u001b[0m     \u001b[38;5;66;03m#print(True)\u001b[39;00m\n\u001b[1;32m      4\u001b[0m \u001b[38;5;28;01mfor\u001b[39;00m i \u001b[38;5;129;01min\u001b[39;00m \u001b[38;5;28mrange\u001b[39m(\u001b[38;5;241m10\u001b[39m\u001b[38;5;241m*\u001b[39m\u001b[38;5;241m*\u001b[39m\u001b[38;5;241m6\u001b[39m):\n\u001b[0;32m----> 5\u001b[0m     x \u001b[38;5;241m+\u001b[39m\u001b[38;5;241m=\u001b[39m \u001b[43m(\u001b[49m\u001b[38;5;241;43m1\u001b[39;49m\u001b[38;5;241;43m+\u001b[39;49m\u001b[38;5;241;43m1e-6\u001b[39;49m\u001b[43m)\u001b[49m\u001b[38;5;241;43m*\u001b[39;49m\u001b[43mx\u001b[49m\n",
      "\u001b[0;31mKeyboardInterrupt\u001b[0m: "
     ]
    }
   ],
   "source": [
    "#if np.zeros(3):\n",
    "    #print(True)\n",
    "\n",
    "for i in range(10**6):\n",
    "    x += (1+1e-6)*x"
   ]
  },
  {
   "cell_type": "code",
   "execution_count": null,
   "metadata": {},
   "outputs": [],
   "source": []
  }
 ],
 "metadata": {
  "kernelspec": {
   "display_name": "2023.2.0",
   "language": "python",
   "name": "python3"
  },
  "language_info": {
   "codemirror_mode": {
    "name": "ipython",
    "version": 3
   },
   "file_extension": ".py",
   "mimetype": "text/x-python",
   "name": "python",
   "nbconvert_exporter": "python",
   "pygments_lexer": "ipython3",
   "version": "3.9.16"
  }
 },
 "nbformat": 4,
 "nbformat_minor": 2
}
