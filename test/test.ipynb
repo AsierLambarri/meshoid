{
 "cells": [
  {
   "cell_type": "code",
   "execution_count": 1,
   "metadata": {},
   "outputs": [
    {
     "name": "stdout",
     "output_type": "stream",
     "text": [
      "Using matplotlib backend: <object object at 0x7fd5142b93f0>\n",
      "%pylab is deprecated, use %matplotlib inline and import the required libraries.\n",
      "Populating the interactive namespace from numpy and matplotlib\n"
     ]
    },
    {
     "ename": "SyntaxError",
     "evalue": "invalid syntax (Meshoid.py, line 142)",
     "output_type": "error",
     "traceback": [
      "Traceback \u001b[0;36m(most recent call last)\u001b[0m:\n",
      "\u001b[0m  File \u001b[1;32m~/.local/lib/python3.9/site-packages/IPython/core/interactiveshell.py:3526\u001b[0m in \u001b[1;35mrun_code\u001b[0m\n    exec(code_obj, self.user_global_ns, self.user_ns)\u001b[0m\n",
      "\u001b[0m  Cell \u001b[1;32mIn[1], line 3\u001b[0m\n    from meshoid import Meshoid\u001b[0m\n",
      "\u001b[0;36m  File \u001b[0;32m~/.local/lib/python3.9/site-packages/meshoid/__init__.py:1\u001b[0;36m\n\u001b[0;31m    from .Meshoid import *\u001b[0;36m\n",
      "\u001b[0;36m  File \u001b[0;32m~/.local/lib/python3.9/site-packages/meshoid/Meshoid.py:142\u001b[0;36m\u001b[0m\n\u001b[0;31m    self.dweights =\u001b[0m\n\u001b[0m                    ^\u001b[0m\n\u001b[0;31mSyntaxError\u001b[0m\u001b[0;31m:\u001b[0m invalid syntax\n"
     ]
    }
   ],
   "source": [
    "%pylab\n",
    "%load_ext line_profiler\n",
    "from meshoid import Meshoid\n",
    "N= int(10**7)\n",
    "x = np.random.rand(N,3)\n",
    "\n",
    "# make a 3D 2nd order polynommial with random coefficients\n",
    "coeffs = np.random.rand(10)\n",
    "f = sum(coeffs[i] * x[:,i]**2 for i in range(3)) + sum(coeffs[i+3] * x[:,(i+1)%3] * x[:,(i+2)%3] for i  in range(3)) + sum(coeffs[i+6]*x[:,i] for i in range(3)) + coeffs[-1]\n",
    "%lprun -f Meshoid.TreeUpdate M = Meshoid(x)\n",
    "#M.D(f)\n",
    "#%lprun -f Meshoid.ComputeDWeights M.D(f)"
   ]
  },
  {
   "cell_type": "code",
   "execution_count": null,
   "metadata": {},
   "outputs": [],
   "source": [
    "%load_ext line_profiler"
   ]
  }
 ],
 "metadata": {
  "kernelspec": {
   "display_name": "2023.2.0",
   "language": "python",
   "name": "python3"
  },
  "language_info": {
   "codemirror_mode": {
    "name": "ipython",
    "version": 3
   },
   "file_extension": ".py",
   "mimetype": "text/x-python",
   "name": "python",
   "nbconvert_exporter": "python",
   "pygments_lexer": "ipython3",
   "version": "3.9.16"
  }
 },
 "nbformat": 4,
 "nbformat_minor": 2
}
