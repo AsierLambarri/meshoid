{
 "cells": [
  {
   "cell_type": "code",
   "execution_count": 3,
   "metadata": {},
   "outputs": [
    {
     "name": "stdout",
     "output_type": "stream",
     "text": [
      "Using matplotlib backend: MacOSX\n",
      "%pylab is deprecated, use %matplotlib inline and import the required libraries.\n",
      "Populating the interactive namespace from numpy and matplotlib\n",
      "The line_profiler extension is already loaded. To reload it, use:\n",
      "  %reload_ext line_profiler\n"
     ]
    },
    {
     "data": {
      "text/plain": [
       "array([[-2.80056604e-14, -1.24361377e-15, -2.65259277e-14,\n",
       "        -1.79240574e-14,  1.26539616e-14,  1.00000000e+00],\n",
       "       [-1.05051384e-13, -2.30912464e-14, -5.18826654e-14,\n",
       "        -6.14458029e-16, -1.57343316e-14,  1.00000000e+00],\n",
       "       [-1.38249042e-14, -2.29627053e-14, -1.35058103e-14,\n",
       "         1.28811250e-14,  1.61662930e-15,  1.00000000e+00],\n",
       "       ...,\n",
       "       [ 5.07666256e-14, -4.35339540e-14, -2.27179240e-14,\n",
       "        -1.32667725e-14, -1.02576982e-15,  1.00000000e+00],\n",
       "       [ 1.24136812e-14,  2.46365428e-14, -2.06085149e-14,\n",
       "         9.18709553e-15, -5.72285275e-15,  1.00000000e+00],\n",
       "       [-1.51056275e-13, -1.79680923e-13, -2.77164495e-14,\n",
       "        -2.64567285e-14,  9.30125050e-14,  1.00000000e+00]])"
      ]
     },
     "execution_count": 3,
     "metadata": {},
     "output_type": "execute_result"
    }
   ],
   "source": [
    "%pylab\n",
    "%load_ext line_profiler\n",
    "from meshoid import Meshoid\n",
    "N= int(10**6)\n",
    "x = np.random.rand(N,3)\n",
    "\n",
    "# make a 3D 2nd order polynommial with random coefficients\n",
    "coeffs = np.random.rand(10)\n",
    "#f = sum(coeffs[i] * x[:,i]**2 for i in range(3)) + sum(coeffs[i+3] * x[:,(i+1)%3] * x[:,(i+2)%3] for i  in range(3)) + sum(coeffs[i+6]*x[:,i] for i in range(3)) + coeffs[-1]\n",
    "#for k in range(3):\n",
    "#df = sum(2*coeffs[i] * x[:,i]**2 for i in range(3)) + sum(coeffs[i+3] * x[:,(i+1)%3] * x[:,(i+2)%3] for i  in range(3)) + sum(coeffs[i+6]*x[:,i] for i in range(3)) + coeffs[-1]\n",
    "M = Meshoid(x,des_ngb=100)\n",
    "M.D2(x[:,2]*x[:,0])\n",
    "#%lprun -f Meshoid.ComputeDWeights M.D(f)"
   ]
  },
  {
   "cell_type": "code",
   "execution_count": 13,
   "metadata": {},
   "outputs": [
    {
     "data": {
      "text/plain": [
       "array([[ 1.61220867e-13,  2.05094307e-13,  4.37633880e-13,\n",
       "         1.00000000e+00,  3.43571394e-14,  7.24211820e-14],\n",
       "       [ 1.23164716e-13,  1.27382005e-13,  1.42316443e-13,\n",
       "         1.00000000e+00,  5.91933593e-14, -1.50784333e-14],\n",
       "       [-1.90480629e-13, -2.88616012e-13, -2.48203491e-13,\n",
       "         1.00000000e+00, -7.58527076e-14,  1.18666676e-13],\n",
       "       ...,\n",
       "       [-2.25376604e-14, -5.85691138e-15, -1.90663673e-14,\n",
       "         1.00000000e+00,  1.29265254e-14, -1.56212971e-14],\n",
       "       [ 8.46430664e-14,  7.20423960e-14,  1.01247300e-13,\n",
       "         1.00000000e+00, -4.42908022e-16,  1.59070162e-14],\n",
       "       [ 1.38469152e-14, -1.49893119e-14,  2.27183317e-14,\n",
       "         1.00000000e+00, -8.79614578e-15, -9.66658394e-15]])"
      ]
     },
     "execution_count": 13,
     "metadata": {},
     "output_type": "execute_result"
    }
   ],
   "source": [
    "M.D2(x[:,1]*x[:,2])"
   ]
  },
  {
   "cell_type": "code",
   "execution_count": null,
   "metadata": {},
   "outputs": [],
   "source": []
  }
 ],
 "metadata": {
  "kernelspec": {
   "display_name": "2023.2.0",
   "language": "python",
   "name": "python3"
  },
  "language_info": {
   "codemirror_mode": {
    "name": "ipython",
    "version": 3
   },
   "file_extension": ".py",
   "mimetype": "text/x-python",
   "name": "python",
   "nbconvert_exporter": "python",
   "pygments_lexer": "ipython3",
   "version": "3.11.4"
  }
 },
 "nbformat": 4,
 "nbformat_minor": 2
}
