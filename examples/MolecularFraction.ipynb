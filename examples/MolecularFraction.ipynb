{
 "cells": [
  {
   "cell_type": "code",
   "execution_count": 5,
   "metadata": {},
   "outputs": [
    {
     "name": "stdout",
     "output_type": "stream",
     "text": [
      "Using matplotlib backend: Qt5Agg\n",
      "Populating the interactive namespace from numpy and matplotlib\n"
     ]
    }
   ],
   "source": [
    "import h5py\n",
    "import meshoid\n",
    "%pylab\n",
    "\n",
    "F = h5py.File(\"snapshot_010.hdf5\")\n",
    "rho = np.array(F[\"PartType0\"][\"Density\"])\n",
    "zz = np.array(F[\"PartType0\"][\"Metallicity\"])[:,0]\n",
    "    \n",
    "M = meshoid.FromSnapshot(\"snapshot_010.hdf5\",ptype=0)\n",
    "\n",
    "    # /* Krumholz & Gnedin fitting function for f_H2 as a function of local properties */\n",
    "    # double tau_fmol = evaluate_NH_from_GradRho(P[i].GradRho,PPP[i].Hsml,SphP[i].Density,PPP[i].NumNgb,1);\n",
    "    # tau_fmol *= (0.1 + P[i].Metallicity[0]/All.SolarAbundances[0]);\n",
    "    # if(tau_fmol>0) {\n",
    "    #     tau_fmol *= 434.78 * All.UnitDensity_in_cgs * All.UnitLength_in_cm * All.HubbleParam;\n",
    "    #     y = 0.756 * (1 + 3.1*pow(P[i].Metallicity[0]/All.SolarAbundances[0],0.365));\n",
    "    #     y = log(1 + 0.6*y + 0.01*y*y) / (0.6*tau_fmol);\n",
    "    #     y = 1 - 0.75*y/(1 + 0.25*y);\n",
    "    #     if(y<0) y=0; if(y>1) y=1;\n",
    "    #     rateOfSF *= y;\n",
    "    # } // if(tau_fmol>0)\n",
    "\n",
    "gradrho = np.sum(M.D(rho)**2,axis=1)**0.5 # magnitude of the density gradient\n",
    "sigma = rho * rho/gradrho + M.m/(np.pi*(M.h/32**(1./3))**2) # column density esimate\n",
    "tau_fmol = sigma * (0.1 + zz)\n",
    "tau_fmol *= 434.78 * 2.088 * 0.7\n",
    "y = 0.756 * (1 + 3.1*(.1+zz)**0.365)\n",
    "y = np.log(1 + 0.6*y + 0.01*y*y) / (0.6*tau_fmol)\n",
    "y = 1 - 0.75*y/(1 + 0.25*y) # the molecular fraction\n",
    "y = np.clip(y,0,1)\n",
    "\n",
    "plt.hist(np.log10(y[y>0]),100); plt.yscale('log'); plt.show()"
   ]
  },
  {
   "cell_type": "code",
   "execution_count": null,
   "metadata": {},
   "outputs": [],
   "source": []
  },
  {
   "cell_type": "code",
   "execution_count": null,
   "metadata": {},
   "outputs": [],
   "source": []
  },
  {
   "cell_type": "code",
   "execution_count": null,
   "metadata": {
    "collapsed": true
   },
   "outputs": [],
   "source": []
  }
 ],
 "metadata": {
  "kernelspec": {
   "display_name": "Python 3",
   "language": "python",
   "name": "python3"
  },
  "language_info": {
   "codemirror_mode": {
    "name": "ipython",
    "version": 3
   },
   "file_extension": ".py",
   "mimetype": "text/x-python",
   "name": "python",
   "nbconvert_exporter": "python",
   "pygments_lexer": "ipython3",
   "version": "3.6.1"
  }
 },
 "nbformat": 4,
 "nbformat_minor": 2
}
